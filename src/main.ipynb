{
 "cells": [
  {
   "cell_type": "code",
   "execution_count": null,
   "metadata": {},
   "outputs": [],
   "source": [
    "import pandas as pd\n",
    "\n",
    "input_file = '../assets/data/recommendation_dataset.csv'\n",
    "\n",
    "dfp = pd.read_csv(input_file, sep=';', skiprows=1)\n",
    "dfp = dfp.iloc[:, 1:].replace(99.0, None)\n",
    "\n",
    "print(dfp)\n",
    "mean = dfp.mean(axis=None, skipna=True)\n",
    "dfp = dfp.fillna(mean)\n",
    "print(dfp)"
   ]
  }
 ],
 "metadata": {
  "kernelspec": {
   "display_name": "Python 3",
   "language": "python",
   "name": "python3"
  },
  "language_info": {
   "codemirror_mode": {
    "name": "ipython",
    "version": 3
   },
   "file_extension": ".py",
   "mimetype": "text/x-python",
   "name": "python",
   "nbconvert_exporter": "python",
   "pygments_lexer": "ipython3",
   "version": "3.12.7"
  }
 },
 "nbformat": 4,
 "nbformat_minor": 2
}
