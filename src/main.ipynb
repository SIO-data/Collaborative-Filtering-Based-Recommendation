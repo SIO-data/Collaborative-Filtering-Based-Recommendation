{
 "cells": [
  {
   "cell_type": "code",
   "execution_count": 11,
   "metadata": {},
   "outputs": [
    {
     "name": "stderr",
     "output_type": "stream",
     "text": [
      "C:\\Users\\Thomas Chourret\\AppData\\Local\\Temp\\ipykernel_16828\\4192914305.py:15: FutureWarning: Series.__getitem__ treating keys as positions is deprecated. In a future version, integer keys will always be treated as labels (consistent with DataFrame behavior). To access a value by position, use `ser.iloc[pos]`\n",
      "  if row[i] is not None:\n",
      "C:\\Users\\Thomas Chourret\\AppData\\Local\\Temp\\ipykernel_16828\\4192914305.py:17: FutureWarning: Series.__getitem__ treating keys as positions is deprecated. In a future version, integer keys will always be treated as labels (consistent with DataFrame behavior). To access a value by position, use `ser.iloc[pos]`\n",
      "  if row[j] is not None:\n",
      "C:\\Users\\Thomas Chourret\\AppData\\Local\\Temp\\ipykernel_16828\\4192914305.py:20: FutureWarning: Series.__getitem__ treating keys as positions is deprecated. In a future version, integer keys will always be treated as labels (consistent with DataFrame behavior). To access a value by position, use `ser.iloc[pos]`\n",
      "  elif row[i] == row[j]:\n",
      "C:\\Users\\Thomas Chourret\\AppData\\Local\\Temp\\ipykernel_16828\\4192914305.py:23: FutureWarning: Series.__getitem__ treating keys as positions is deprecated. In a future version, integer keys will always be treated as labels (consistent with DataFrame behavior). To access a value by position, use `ser.iloc[pos]`\n",
      "  user_coef[user][i - 1][j - 1] = 1 / abs(row[i] - row[j])\n"
     ]
    },
    {
     "name": "stdout",
     "output_type": "stream",
     "text": [
      "Done with user 0\n",
      "Done with user 1\n",
      "Done with user 2\n",
      "Done with user 3\n",
      "Done with user 4\n",
      "Done with user 5\n",
      "Done with user 6\n",
      "Done with user 7\n",
      "Done with user 8\n",
      "Done with user 9\n",
      "Done with user 10\n",
      "Done with user 11\n",
      "Done with user 12\n",
      "Done with user 13\n",
      "Done with user 14\n",
      "Done with user 15\n",
      "Done with user 16\n",
      "Done with user 17\n",
      "Done with user 18\n",
      "Done with user 19\n",
      "Done with user 20\n",
      "Done with user 21\n",
      "Done with user 22\n",
      "Done with user 23\n",
      "Done with user 24\n",
      "Done with user 25\n",
      "Done with user 26\n",
      "Done with user 27\n",
      "Done with user 28\n",
      "Done with user 29\n",
      "Done with user 30\n",
      "Done with user 31\n",
      "Done with user 32\n",
      "Done with user 33\n",
      "Done with user 34\n",
      "Done with user 35\n",
      "Done with user 36\n",
      "Done with user 37\n",
      "Done with user 38\n",
      "Done with user 39\n",
      "Done with user 40\n",
      "Done with user 41\n",
      "Done with user 42\n",
      "Done with user 43\n",
      "Done with user 44\n",
      "Done with user 45\n"
     ]
    },
    {
     "ename": "KeyboardInterrupt",
     "evalue": "",
     "output_type": "error",
     "traceback": [
      "\u001b[1;31m---------------------------------------------------------------------------\u001b[0m",
      "\u001b[1;31mKeyboardInterrupt\u001b[0m                         Traceback (most recent call last)",
      "Cell \u001b[1;32mIn[11], line 23\u001b[0m\n\u001b[0;32m     21\u001b[0m \t\t\t\t\t\tuser_coef[user][i \u001b[38;5;241m-\u001b[39m \u001b[38;5;241m1\u001b[39m][j \u001b[38;5;241m-\u001b[39m \u001b[38;5;241m1\u001b[39m] \u001b[38;5;241m=\u001b[39m \u001b[38;5;241m1\u001b[39m\n\u001b[0;32m     22\u001b[0m \t\t\t\t\t\u001b[38;5;28;01melse\u001b[39;00m:\n\u001b[1;32m---> 23\u001b[0m \t\t\t\t\t\tuser_coef[user][i \u001b[38;5;241m-\u001b[39m \u001b[38;5;241m1\u001b[39m][j \u001b[38;5;241m-\u001b[39m \u001b[38;5;241m1\u001b[39m] \u001b[38;5;241m=\u001b[39m \u001b[38;5;241m1\u001b[39m \u001b[38;5;241m/\u001b[39m \u001b[38;5;28mabs\u001b[39m(row[i] \u001b[38;5;241m-\u001b[39m \u001b[43mrow\u001b[49m\u001b[43m[\u001b[49m\u001b[43mj\u001b[49m\u001b[43m]\u001b[49m)\n\u001b[0;32m     24\u001b[0m \t\u001b[38;5;28mprint\u001b[39m(\u001b[38;5;124m\"\u001b[39m\u001b[38;5;124mDone with user\u001b[39m\u001b[38;5;124m\"\u001b[39m, user)\n\u001b[0;32m     26\u001b[0m \u001b[38;5;28mprint\u001b[39m(user_coef[\u001b[38;5;241m0\u001b[39m])\n",
      "File \u001b[1;32m~\\AppData\\Local\\Packages\\PythonSoftwareFoundation.Python.3.12_qbz5n2kfra8p0\\LocalCache\\local-packages\\Python312\\site-packages\\pandas\\core\\series.py:1097\u001b[0m, in \u001b[0;36mSeries.__getitem__\u001b[1;34m(self, key)\u001b[0m\n\u001b[0;32m   1095\u001b[0m \u001b[38;5;28;01mdef\u001b[39;00m \u001b[38;5;21m__getitem__\u001b[39m(\u001b[38;5;28mself\u001b[39m, key):\n\u001b[0;32m   1096\u001b[0m     check_dict_or_set_indexers(key)\n\u001b[1;32m-> 1097\u001b[0m     key \u001b[38;5;241m=\u001b[39m \u001b[43mcom\u001b[49m\u001b[38;5;241;43m.\u001b[39;49m\u001b[43mapply_if_callable\u001b[49m\u001b[43m(\u001b[49m\u001b[43mkey\u001b[49m\u001b[43m,\u001b[49m\u001b[43m \u001b[49m\u001b[38;5;28;43mself\u001b[39;49m\u001b[43m)\u001b[49m\n\u001b[0;32m   1099\u001b[0m     \u001b[38;5;28;01mif\u001b[39;00m key \u001b[38;5;129;01mis\u001b[39;00m \u001b[38;5;28mEllipsis\u001b[39m:\n\u001b[0;32m   1100\u001b[0m         \u001b[38;5;28;01mif\u001b[39;00m using_copy_on_write() \u001b[38;5;129;01mor\u001b[39;00m warn_copy_on_write():\n",
      "File \u001b[1;32m~\\AppData\\Local\\Packages\\PythonSoftwareFoundation.Python.3.12_qbz5n2kfra8p0\\LocalCache\\local-packages\\Python312\\site-packages\\pandas\\core\\common.py:383\u001b[0m, in \u001b[0;36mapply_if_callable\u001b[1;34m(maybe_callable, obj, **kwargs)\u001b[0m\n\u001b[0;32m    372\u001b[0m \u001b[38;5;28;01mdef\u001b[39;00m \u001b[38;5;21mapply_if_callable\u001b[39m(maybe_callable, obj, \u001b[38;5;241m*\u001b[39m\u001b[38;5;241m*\u001b[39mkwargs):\n\u001b[0;32m    373\u001b[0m \u001b[38;5;250m    \u001b[39m\u001b[38;5;124;03m\"\"\"\u001b[39;00m\n\u001b[0;32m    374\u001b[0m \u001b[38;5;124;03m    Evaluate possibly callable input using obj and kwargs if it is callable,\u001b[39;00m\n\u001b[0;32m    375\u001b[0m \u001b[38;5;124;03m    otherwise return as it is.\u001b[39;00m\n\u001b[1;32m   (...)\u001b[0m\n\u001b[0;32m    381\u001b[0m \u001b[38;5;124;03m    **kwargs\u001b[39;00m\n\u001b[0;32m    382\u001b[0m \u001b[38;5;124;03m    \"\"\"\u001b[39;00m\n\u001b[1;32m--> 383\u001b[0m     \u001b[38;5;28;01mif\u001b[39;00m \u001b[38;5;28;43mcallable\u001b[39;49m\u001b[43m(\u001b[49m\u001b[43mmaybe_callable\u001b[49m\u001b[43m)\u001b[49m:\n\u001b[0;32m    384\u001b[0m         \u001b[38;5;28;01mreturn\u001b[39;00m maybe_callable(obj, \u001b[38;5;241m*\u001b[39m\u001b[38;5;241m*\u001b[39mkwargs)\n\u001b[0;32m    386\u001b[0m     \u001b[38;5;28;01mreturn\u001b[39;00m maybe_callable\n",
      "\u001b[1;31mKeyboardInterrupt\u001b[0m: "
     ]
    }
   ],
   "source": [
    "import pandas as pd\n",
    "import numpy as np\n",
    "\n",
    "input_file = '../assets/data/recommendation_dataset.csv'\n",
    "\n",
    "dfp = pd.read_csv(input_file, sep=';', skiprows=1)\n",
    "dfp = dfp.iloc[:, 1:].replace(99.0, None)\n",
    "\n",
    "user_coef = np.zeros((len(dfp), len(dfp.columns) - 1, len(dfp.columns) - 1))\n",
    "\n",
    "for row in dfp.iterrows():\n",
    "\tuser = row[0]\n",
    "\trow = row[1]\n",
    "\tfor i in range(1, len(row)):\n",
    "\t\tif row[i] is not None:\n",
    "\t\t\tfor j in range(1, len(row)):\n",
    "\t\t\t\tif row[j] is not None:\n",
    "\t\t\t\t\tif i == j:\n",
    "\t\t\t\t\t\tuser_coef[user][i - 1][j - 1] = 1\n",
    "\t\t\t\t\telif row[i] == row[j]:\n",
    "\t\t\t\t\t\tuser_coef[user][i - 1][j - 1] = 1\n",
    "\t\t\t\t\telse:\n",
    "\t\t\t\t\t\tuser_coef[user][i - 1][j - 1] = 1 / abs(row[i] - row[j])\n",
    "\tprint(\"Done with user\", user)\n",
    "\n",
    "print(user_coef[0])\n",
    "\n"
   ]
  }
 ],
 "metadata": {
  "kernelspec": {
   "display_name": "Python 3",
   "language": "python",
   "name": "python3"
  },
  "language_info": {
   "codemirror_mode": {
    "name": "ipython",
    "version": 3
   },
   "file_extension": ".py",
   "mimetype": "text/x-python",
   "name": "python",
   "nbconvert_exporter": "python",
   "pygments_lexer": "ipython3",
   "version": "3.12.7"
  }
 },
 "nbformat": 4,
 "nbformat_minor": 2
}
