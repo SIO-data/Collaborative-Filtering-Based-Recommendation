{
 "cells": [
  {
   "cell_type": "code",
   "execution_count": null,
   "metadata": {},
   "outputs": [
    {
     "name": "stdout",
     "output_type": "stream",
     "text": [
      "      -7.82  8.79 -9.66 -8.16 -7.52  -8.5 -9.85  4.17 -8.98 -4.76  ... 2.82.2  \\\n",
      "0      None -0.29  6.36  4.37 -2.38 -9.66 -0.73 -5.34  8.88  None  ...   2.82   \n",
      "1      None  None  None  None  9.03  9.27  9.03  9.27  None  None  ...   None   \n",
      "2      None  8.35  None  None   1.8  8.16 -2.82  6.21  None  1.84  ...   None   \n",
      "3       8.5  4.61 -4.17 -5.39  1.36   1.6  7.04  4.61 -0.44  5.73  ...   5.19   \n",
      "4     -6.17 -3.54  0.44  -8.5 -7.09 -4.32 -8.69 -0.87 -6.65  -1.8  ...  -3.54   \n",
      "...     ...   ...   ...   ...   ...   ...   ...   ...   ...   ...  ...    ...   \n",
      "73415  None  None  None  None  5.78  8.45  None   8.2  None   8.5  ...   None   \n",
      "73416  None  None  None  None  5.24  None  None  5.68  None  None  ...   None   \n",
      "73417  None  None  None  None -3.93  None -9.03 -2.67  None  None  ...   None   \n",
      "73418  None  None  None  None  9.42  9.66  None  9.17  None  None  ...   None   \n",
      "73419  None  None  None  None  0.19  None  -1.5  7.82  None  None  ...   None   \n",
      "\n",
      "      99.18 99.19 99.20 99.21 99.22 -5.63 99.23 99.24 99.25  \n",
      "0     -4.95 -0.29  7.86 -0.19 -2.14  3.06  0.34 -4.32  1.07  \n",
      "1      None  None  9.08  None  None  None  None  None  None  \n",
      "2      None  None  0.53  None  None  None  None  None  None  \n",
      "3      5.58  4.27  5.19  5.73  1.55  3.11  6.55   1.8   1.6  \n",
      "4     -6.89 -0.68 -2.96 -2.18 -3.35  0.05 -9.08 -5.05 -3.45  \n",
      "...     ...   ...   ...   ...   ...   ...   ...   ...   ...  \n",
      "73415  None  None  None  None  None  None  None  None  None  \n",
      "73416  None  None  None  None  None  None  None  None  None  \n",
      "73417  None  None  None  None  None  None  None  None  None  \n",
      "73418  None  None  None  None  None  None  None  None  None  \n",
      "73419  None  None  None  None  None  None  None  None  None  \n",
      "\n",
      "[73420 rows x 100 columns]\n"
     ]
    },
    {
     "name": "stderr",
     "output_type": "stream",
     "text": [
      "C:\\Users\\Thomas Chourret\\AppData\\Local\\Temp\\ipykernel_832\\3019423092.py:10: FutureWarning: Downcasting object dtype arrays on .fillna, .ffill, .bfill is deprecated and will change in a future version. Call result.infer_objects(copy=False) instead. To opt-in to the future behavior, set `pd.set_option('future.no_silent_downcasting', True)`\n",
      "  dfp = dfp.fillna(mean)\n"
     ]
    },
    {
     "name": "stdout",
     "output_type": "stream",
     "text": [
      "          -7.82      8.79     -9.66     -8.16  -7.52      -8.5     -9.85  \\\n",
      "0      0.741947 -0.290000  6.360000  4.370000  -2.38 -9.660000 -0.730000   \n",
      "1      0.741947  0.741947  0.741947  0.741947   9.03  9.270000  9.030000   \n",
      "2      0.741947  8.350000  0.741947  0.741947   1.80  8.160000 -2.820000   \n",
      "3      8.500000  4.610000 -4.170000 -5.390000   1.36  1.600000  7.040000   \n",
      "4     -6.170000 -3.540000  0.440000 -8.500000  -7.09 -4.320000 -8.690000   \n",
      "...         ...       ...       ...       ...    ...       ...       ...   \n",
      "73415  0.741947  0.741947  0.741947  0.741947   5.78  8.450000  0.741947   \n",
      "73416  0.741947  0.741947  0.741947  0.741947   5.24  0.741947  0.741947   \n",
      "73417  0.741947  0.741947  0.741947  0.741947  -3.93  0.741947 -9.030000   \n",
      "73418  0.741947  0.741947  0.741947  0.741947   9.42  9.660000  0.741947   \n",
      "73419  0.741947  0.741947  0.741947  0.741947   0.19  0.741947 -1.500000   \n",
      "\n",
      "       4.17     -8.98     -4.76  ...    2.82.2     99.18     99.19     99.20  \\\n",
      "0     -5.34  8.880000  0.741947  ...  2.820000 -4.950000 -0.290000  7.860000   \n",
      "1      9.27  0.741947  0.741947  ...  0.741947  0.741947  0.741947  9.080000   \n",
      "2      6.21  0.741947  1.840000  ...  0.741947  0.741947  0.741947  0.530000   \n",
      "3      4.61 -0.440000  5.730000  ...  5.190000  5.580000  4.270000  5.190000   \n",
      "4     -0.87 -6.650000 -1.800000  ... -3.540000 -6.890000 -0.680000 -2.960000   \n",
      "...     ...       ...       ...  ...       ...       ...       ...       ...   \n",
      "73415  8.20  0.741947  8.500000  ...  0.741947  0.741947  0.741947  0.741947   \n",
      "73416  5.68  0.741947  0.741947  ...  0.741947  0.741947  0.741947  0.741947   \n",
      "73417 -2.67  0.741947  0.741947  ...  0.741947  0.741947  0.741947  0.741947   \n",
      "73418  9.17  0.741947  0.741947  ...  0.741947  0.741947  0.741947  0.741947   \n",
      "73419  7.82  0.741947  0.741947  ...  0.741947  0.741947  0.741947  0.741947   \n",
      "\n",
      "          99.21     99.22     -5.63     99.23     99.24     99.25  \n",
      "0     -0.190000 -2.140000  3.060000  0.340000 -4.320000  1.070000  \n",
      "1      0.741947  0.741947  0.741947  0.741947  0.741947  0.741947  \n",
      "2      0.741947  0.741947  0.741947  0.741947  0.741947  0.741947  \n",
      "3      5.730000  1.550000  3.110000  6.550000  1.800000  1.600000  \n",
      "4     -2.180000 -3.350000  0.050000 -9.080000 -5.050000 -3.450000  \n",
      "...         ...       ...       ...       ...       ...       ...  \n",
      "73415  0.741947  0.741947  0.741947  0.741947  0.741947  0.741947  \n",
      "73416  0.741947  0.741947  0.741947  0.741947  0.741947  0.741947  \n",
      "73417  0.741947  0.741947  0.741947  0.741947  0.741947  0.741947  \n",
      "73418  0.741947  0.741947  0.741947  0.741947  0.741947  0.741947  \n",
      "73419  0.741947  0.741947  0.741947  0.741947  0.741947  0.741947  \n",
      "\n",
      "[73420 rows x 100 columns]\n"
     ]
    }
   ],
   "source": [
    "import pandas as pd\n",
    "\n",
    "input_file = '../assets/data/recommendation_dataset.csv'\n",
    "\n",
    "dfp = pd.read_csv(input_file, sep=';', skiprows=1)\n",
    "dfp = dfp.iloc[:, 1:].replace(99.0, None)\n",
    "\n",
    "print(dfp)\n",
    "mean = dfp.mean(axis=None, skipna=True)\n",
    "dfp = dfp.fillna(mean)\n",
    "print(dfp)"
   ]
  }
 ],
 "metadata": {
  "kernelspec": {
   "display_name": "Python 3",
   "language": "python",
   "name": "python3"
  },
  "language_info": {
   "codemirror_mode": {
    "name": "ipython",
    "version": 3
   },
   "file_extension": ".py",
   "mimetype": "text/x-python",
   "name": "python",
   "nbconvert_exporter": "python",
   "pygments_lexer": "ipython3",
   "version": "3.12.7"
  }
 },
 "nbformat": 4,
 "nbformat_minor": 2
}
