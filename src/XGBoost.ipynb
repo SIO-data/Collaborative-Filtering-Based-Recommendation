{
 "cells": [
  {
   "cell_type": "code",
   "execution_count": 11,
   "metadata": {
    "id": "Pk678PdTNtS8"
   },
   "outputs": [],
   "source": [
    "import pandas as pd\n",
    "import numpy as np\n",
    "from xgboost import XGBRegressor\n",
    "from sklearn.model_selection import train_test_split\n",
    "from sklearn.metrics import mean_squared_error"
   ]
  },
  {
   "cell_type": "code",
   "execution_count": null,
   "metadata": {
    "id": "1ZYI_THfNxxj"
   },
   "outputs": [],
   "source": [
    "input_file = 'recommendation_dataset.csv'\n",
    "\n",
    "data = pd.read_csv(input_file, sep=';', skiprows=0)\n",
    "data = data.replace(99, np.nan, inplace=True)"
   ]
  },
  {
   "cell_type": "code",
   "execution_count": null,
   "metadata": {},
   "outputs": [],
   "source": [
    "# Convertir todas las columnas numéricas\n",
    "data.iloc[:, 1:] = data.iloc[:, 1:].apply(pd.to_numeric, errors='coerce')"
   ]
  },
  {
   "cell_type": "code",
   "execution_count": null,
   "metadata": {
    "colab": {
     "base_uri": "https://localhost:8080/"
    },
    "id": "wOQDGjoROPt4",
    "outputId": "a041c7ad-aeb9-4a86-b25d-e8c865c60453"
   },
   "outputs": [
    {
     "data": {
      "text/plain": [
       "(73421, 101)"
      ]
     },
     "execution_count": 47,
     "metadata": {},
     "output_type": "execute_result"
    }
   ],
   "source": [
    "data.shape"
   ]
  },
  {
   "cell_type": "code",
   "execution_count": null,
   "metadata": {
    "colab": {
     "base_uri": "https://localhost:8080/"
    },
    "id": "h5seL29hvQGV",
    "outputId": "bb88d04a-ce5b-4913-f736-4911ad0dd2b1"
   },
   "outputs": [
    {
     "name": "stdout",
     "output_type": "stream",
     "text": [
      "Datos imputados:\n",
      "  DATASET  Restaurant1  Restaurant2  Restaurant3  Restaurant4  Restaurant5  \\\n",
      "0   User1    -7.820000      8.79000    -9.660000    -8.160000        -7.52   \n",
      "1   User2     3.949656     -0.29000     6.360000     4.370000        -2.38   \n",
      "2   User3     3.137874      4.65853     4.757423     2.801868         9.03   \n",
      "3   User4     2.165003      8.35000     2.705641     2.931299         1.80   \n",
      "4   User5     8.500000      4.61000    -4.170000    -5.390000         1.36   \n",
      "\n",
      "   Restaurant6  Restaurant7  Restaurant8  Restaurant9  ...  Restaurant91  \\\n",
      "0        -8.50        -9.85         4.17    -8.980000  ...      2.820000   \n",
      "1        -9.66        -0.73        -5.34     8.880000  ...      2.820000   \n",
      "2         9.27         9.03         9.27     1.869700  ...      6.675718   \n",
      "3         8.16        -2.82         6.21    -0.008669  ...      0.018581   \n",
      "4         1.60         7.04         4.61    -0.440000  ...      5.190000   \n",
      "\n",
      "   Restaurant92  Restaurant93  Restaurant94  Restaurant95  Restaurant96  \\\n",
      "0     -0.573617     -0.099338     -6.235345     -5.004427     -4.238213   \n",
      "1     -4.950000     -0.290000      7.860000     -0.190000     -2.140000   \n",
      "2      6.530015      7.182911      9.080000      6.551149      6.659241   \n",
      "3     -1.124734      0.176999      0.530000      0.362334     -0.769169   \n",
      "4      5.580000      4.270000      5.190000      5.730000      1.550000   \n",
      "\n",
      "   Restaurant97  Restaurant98  Restaurant99  Restaurant100  \n",
      "0     -5.630000     -5.716344     -5.900205      -5.389290  \n",
      "1      3.060000      0.340000     -4.320000       1.070000  \n",
      "2      6.923070      7.599136      6.462357       6.956251  \n",
      "3     -0.556897      2.899604     -0.954980       3.228266  \n",
      "4      3.110000      6.550000      1.800000       1.600000  \n",
      "\n",
      "[5 rows x 101 columns]\n"
     ]
    }
   ],
   "source": [
    "# Iterar sobre cada columna (restaurante) para predecir los valores faltantes\n",
    "for column in data.columns[1:]:  # Ignorar la primera columna de nombres de usuarios\n",
    "    # Separar filas con datos conocidos y faltantes\n",
    "    known_data = data[data[column].notna()]\n",
    "    missing_data = data[data[column].isna()]\n",
    "\n",
    "    # Continuar solo si hay datos faltantes\n",
    "    if not missing_data.empty:\n",
    "        # Definir características y etiquetas\n",
    "        X_train = known_data.drop(columns=[column, 'DATASET'])\n",
    "        y_train = known_data[column]\n",
    "        X_missing = missing_data.drop(columns=[column, 'DATASET'])\n",
    "\n",
    "        # Entrenar el modelo de XGBoost\n",
    "        model = XGBRegressor(n_estimators=100, learning_rate=0.1, max_depth=3, random_state=42)\n",
    "        model.fit(X_train, y_train)\n",
    "\n",
    "        # Predecir los valores faltantes\n",
    "        predictions = model.predict(X_missing)\n",
    "\n",
    "        data.loc[data[column].isna(), column] = predictions\n"
   ]
  },
  {
   "cell_type": "code",
   "execution_count": 15,
   "metadata": {
    "id": "prum0167y1jk"
   },
   "outputs": [],
   "source": [
    "data.drop(columns=['DATASET'], inplace=True)\n"
   ]
  },
  {
   "cell_type": "code",
   "execution_count": null,
   "metadata": {
    "id": "t1reN98IyGkE"
   },
   "outputs": [],
   "source": [
    "data.to_csv('dataset_imputados.csv', index=False, sep=',')"
   ]
  },
  {
   "cell_type": "code",
   "execution_count": null,
   "metadata": {},
   "outputs": [],
   "source": [
    "def cargar_base_csv(ruta_base):\n",
    "    \"\"\"Carga las valoraciones desde el archivo base.csv.\"\"\"\n",
    "    with open(ruta_base, 'r') as archivo_base:\n",
    "        lector = csv.reader(archivo_base)\n",
    "        return [list(map(float, fila)) for fila in lector]\n",
    "\n",
    "def poblar_valoraciones(ruta_base, ruta_valoraciones, ruta_salida):\n",
    "    \"\"\"Llena el archivo valoraciones.csv con las valoraciones de base.csv.\"\"\"\n",
    "    # Cargar las valoraciones desde base.csv\n",
    "    valoraciones_base = cargar_base_csv(ruta_base)\n",
    "\n",
    "    # Leer el archivo valoraciones.csv y procesar las líneas\n",
    "    with open(ruta_valoraciones, 'r') as archivo_val:\n",
    "        lector = csv.reader(archivo_val, delimiter=';')\n",
    "        filas_actualizadas = []\n",
    "        \n",
    "        for fila in lector:\n",
    "            usuario = int(fila[0].replace('User', '')) - 1  # Índice del usuario\n",
    "            restaurante = int(fila[1].replace('Restaurant', '')) - 1  # Índice del restaurante\n",
    "            valoracion = valoraciones_base[usuario][restaurante]  # Obtener la valoración\n",
    "            fila_actualizada = f\"{fila[0]};{fila[1]};{valoracion}\"\n",
    "            filas_actualizadas.append(fila_actualizada)\n",
    "\n",
    "    # Guardar las filas actualizadas en un archivo de salida\n",
    "    with open(ruta_salida, 'w') as archivo_salida:\n",
    "        for fila in filas_actualizadas:\n",
    "            archivo_salida.write(fila + '\\\\n')\n",
    "\n",
    "# Ejecución de la función\n",
    "ruta_base = '../assets/data/dataset_imputados.csv'\n",
    "ruta_valoraciones = '../assets/data/valoraciones.csv'\n",
    "ruta_salida = '../assets/data/valoraciones_completadasXGBoost.csv'\n",
    "\n",
    "poblar_valoraciones(ruta_base, ruta_valoraciones, ruta_salida)\n",
    "print(\"Archivo valoraciones_completadas.csv generado exitosamente.\")"
   ]
  }
 ],
 "metadata": {
  "colab": {
   "provenance": []
  },
  "kernelspec": {
   "display_name": "Python 3",
   "name": "python3"
  },
  "language_info": {
   "name": "python"
  }
 },
 "nbformat": 4,
 "nbformat_minor": 0
}
